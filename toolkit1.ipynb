{
  "nbformat": 4,
  "nbformat_minor": 0,
  "metadata": {
    "colab": {
      "provenance": []
    },
    "kernelspec": {
      "name": "python3",
      "display_name": "Python 3"
    },
    "language_info": {
      "name": "python"
    }
  },
  "cells": [
    {
      "cell_type": "markdown",
      "source": [
        "1. What is NumPy, and why is it widely used in Python?\n",
        "\n",
        "\n",
        "NumPy, short for Numerical Python, is a powerful open-source library in Python that is primarily used for numerical and scientific computing.\n",
        "\n",
        "Ease of Use: NumPy's syntax is straightforward and intuitive, making it accessible for both beginners and experienced programmers.\n",
        "\n",
        "Community and Documentation: Being one of the oldest libraries for numerical computing in Python, NumPy has a large community and extensive documentation, which makes it easier to find resources and support.\n",
        "\n",
        "Interoperability: NumPy arrays can be easily converted to and from other data types, such as Python lists and Pandas DataFrames, facilitating data manipulation and analysis.\n",
        "\n",
        "Support for Large Datasets: NumPy is optimized for performance and can handle large datasets efficiently, which is crucial for data science and machine learning applications.\n",
        "\n",
        "Standard in Scientific Computing: Many scientific and engineering applications rely on NumPy, making it a standard tool in the field. Its widespread adoption means that many tutorials, courses, and resources are available for learning.\n"
      ],
      "metadata": {
        "id": "j5nwp06kEGzU"
      }
    },
    {
      "cell_type": "markdown",
      "source": [
        "2 How does broadcasting work in NumPy?\n",
        "\n",
        "Broadcasting is a powerful feature in NumPy that allows for arithmetic operations to be performed on arrays of different shapes and sizes without the need for explicit replication of data. This capability makes it easier to write concise and efficient code when working with arrays. Here’s how broadcasting works in NumPy:\n",
        "\n",
        "\n",
        "Basic Principles of Broadcasting\n",
        "Array Shapes: When performing operations on two arrays, NumPy compares their shapes element-wise, starting from the trailing dimensions (i.e., the rightmost dimensions).\n",
        "\n",
        "Dimension Compatibility: Two dimensions are compatible when:\n",
        "\n",
        "They are equal, or\n",
        "One of them is 1 (in which case it can be \"stretched\" to match the other dimension).\n",
        "Stretching: If the dimensions of the arrays do not match, NumPy will \"stretch\" the smaller array across the larger array to make their shapes compatible. This does not involve copying data; instead, it creates a view that allows for the operation to be performed as if the smaller array were replicated."
      ],
      "metadata": {
        "id": "caGNjwItEX1C"
      }
    },
    {
      "cell_type": "markdown",
      "source": [
        "3 What is a Pandas DataFrame?\n",
        "\n",
        "A Pandas DataFrame is a two-dimensional, size-mutable, and potentially heterogeneous tabular data structure provided by the Pandas library in Python. It is one of the most commonly used data structures in data analysis and manipulation, and it is particularly well-suited for handling structured data.\n",
        "\n",
        "Key Features of a Pandas DataFrame:\n",
        "Tabular Structure: A DataFrame is similar to a table in a database or a spreadsheet, consisting of rows and columns. Each column can hold different data types (e.g., integers, floats, strings).\n",
        "\n",
        "Labeled Axes: Each row and column in a DataFrame can be labeled with an index. This allows for easy access and manipulation of data using labels rather than just integer-based indexing.\n",
        "\n",
        "Size-Mutable: You can easily add or remove columns and rows from a DataFrame, making it flexible for data manipulation.\n",
        "\n"
      ],
      "metadata": {
        "id": "pS5iMsxGEslJ"
      }
    },
    {
      "cell_type": "markdown",
      "source": [
        "4.Explain the use of the groupby() method in Pandas?\n",
        "\n",
        "The groupby() method in Pandas is a powerful tool used for splitting a DataFrame into groups based on some criteria, allowing for the aggregation, transformation, or filtering of data. It is particularly useful for summarizing data and performing operations on subsets of data.\n",
        "\n",
        "Common Use Cases\n",
        "\n",
        "Aggregation: You can use groupby() to compute summary statistics for each group, such as mean, sum, count, etc.\n",
        "\n",
        "Multiple Aggregations: You can apply multiple aggregation functions at once using the agg() method.\n",
        "\n",
        "Transformations: You can also use groupby() to perform transformations on the data, such as normalizing values within each group."
      ],
      "metadata": {
        "id": "fgFCpPlkE3E8"
      }
    },
    {
      "cell_type": "markdown",
      "source": [
        "5. Why is Seaborn preferred for statistical visualizations?\n",
        "\n",
        "Seaborn is preferred for statistical visualizations due to its high-level interface that simplifies the creation of complex visualizations with minimal code. It enhances Matplotlib's capabilities by providing built-in themes and statistical functionalities, making it easier to visualize data distributions and relationships. ### Key Advantages of Seaborn for Statistical Visualizations\n",
        "\n",
        "High-Level Interface: Seaborn offers a user-friendly API that allows users to create complex visualizations with less code compared to Matplotlib. This reduces the amount of boilerplate code needed for plotting.\n",
        "\n",
        "Built-in Themes: Seaborn comes with several aesthetically pleasing themes and color palettes, which enhance the visual appeal of the plots. This makes it easier to create professional-looking graphics without extensive customization.\n",
        "\n",
        "Statistical Functions: Seaborn provides a variety of built-in statistical functions that facilitate the visualization of data distributions and relationships. This includes functions for creating box plots, violin plots, and pair plots, which are essential for exploratory data analysis.\n"
      ],
      "metadata": {
        "id": "OTEOVWrfFY_Z"
      }
    },
    {
      "cell_type": "markdown",
      "source": [
        "7. What is a heatmap, and when should it be used?\n",
        "\n",
        "A heatmap is a data visualization technique that uses color to represent the values of a matrix or a two-dimensional dataset. It provides a way to visualize complex data in a more intuitive format, allowing viewers to quickly identify patterns, correlations, and trends within the data.\n",
        "\n",
        "\n",
        "When to Use a Heatmap:\n",
        "Heatmaps are particularly useful in the following scenarios:\n",
        "\n",
        "Correlation Analysis: Heatmaps are commonly used to visualize correlation matrices, where the strength of the relationship between pairs of variables is represented. This helps in identifying which variables are positively or negatively correlated.\n",
        "\n",
        "Data Density Visualization: Heatmaps can be used to visualize the density of data points in a two-dimensional space, such as in geographical data or user activity on a website. This helps in identifying hotspots or areas of high activity.\n",
        "\n",
        "Comparative Analysis: When comparing multiple categories or groups across different variables, heatmaps can provide a clear visual representation of how each category performs relative to others.\n",
        "\n",
        "Time Series Data: Heatmaps can be used to visualize time series data, where time is represented on one axis and another variable on the other axis. This can help in identifying trends over time."
      ],
      "metadata": {
        "id": "99PTX0ESGb8Y"
      }
    },
    {
      "cell_type": "markdown",
      "source": [
        "8. What does the term “vectorized operation” mean in NumPy?\n",
        "\n",
        "\n",
        "In NumPy, the term \"vectorized operation\" refers to the ability to perform operations on entire arrays (or large datasets) at once, rather than using explicit loops to iterate through individual elements. This approach leverages the underlying implementation of NumPy, which is optimized for performance, allowing for efficient computation and memory usage"
      ],
      "metadata": {
        "id": "NATG-krqGq0X"
      }
    },
    {
      "cell_type": "markdown",
      "source": [
        "9 How does Matplotlib differ from Plotly?\n",
        "\n",
        "Matplotlib and Plotly are both popular libraries for data visualization in Python, but they have different features, capabilities, and use cases. Here are the key differences between Matplotlib and Plotly:\n",
        "\n",
        "1. Type of Visualizations\n",
        "Matplotlib:\n",
        "\n",
        "Primarily designed for static visualizations. It excels at creating a wide range of 2D plots, including line plots, bar charts, histograms, scatter plots, and more.\n",
        "While it has some capabilities for creating 3D plots, its primary strength lies in 2D visualizations.\n",
        "Plotly:\n",
        "\n",
        "Designed for interactive visualizations. It allows users to create dynamic and interactive plots that can be embedded in web applications or Jupyter notebooks.\n",
        "\n",
        "2. Interactivity\n",
        "Matplotlib:\n",
        "\n",
        "Primarily focuses on static plots. While it does have some interactive capabilities (e.g., zooming and panning in certain backends), it is not inherently designed for interactivity.\n",
        "Users can create interactive plots using additional libraries like mpld3 or matplotlib.widgets, but this requires extra effort.\n",
        "Plotly:\n",
        "\n",
        "Built from the ground up for interactivity. Users can hover over data points to see tooltips, zoom in and out, and pan around the plot without any additional coding.\n",
        "Supports features like dropdowns, sliders, and buttons to create complex interactive dashboards.\n",
        "\n",
        "3. Ease of Use\n",
        "Matplotlib:\n",
        "\n",
        "Has a steeper learning curve for beginners due to its extensive customization options and the need to manage figure and axis objects explicitly.\n",
        "Requires more lines of code to achieve complex visualizations compared to Plotly.\n",
        "Plotly:\n",
        "\n",
        "Generally easier to use for creating interactive visualizations. The syntax is often more intuitive, and it requires fewer lines of code to create complex plots.\n",
        "Provides a high-level interface that abstracts many of the details involved in creating interactive visualizations."
      ],
      "metadata": {
        "id": "s-Kxyr9_G6wL"
      }
    },
    {
      "cell_type": "markdown",
      "source": [
        "10.What is the significance of hierarchical indexing in Pandas?\n",
        "\n",
        "Hierarchical indexing, also known as multi-level indexing, is a powerful feature in Pandas that allows you to work with data that has multiple levels of indexing. This feature is particularly useful for organizing and analyzing complex datasets that have multiple dimensions or categories. Here are the key significances and benefits of hierarchical indexing in Pandas:\n",
        "\n",
        "1. Multi-dimensional Data Representation\n",
        "Hierarchical indexing allows you to represent multi-dimensional data in a two-dimensional DataFrame or Series. This is particularly useful when dealing with datasets that have multiple categorical variables. For example, you can have a DataFrame indexed by both \"Country\" and \"Year,\" allowing you to easily analyze data across these two dimensions.\n",
        "\n",
        "2. Enhanced Data Organization\n",
        "Hierarchical indexing helps in organizing data in a more structured way. It allows you to group related data together, making it easier to navigate and manipulate. For instance, you can group sales data by \"Region\" and \"Product,\" which helps in analyzing sales performance across different regions and products simultaneously.\n",
        "\n",
        "3. Simplified Data Selection and Slicing\n",
        "With hierarchical indexing, you can easily select and slice data at different levels of the index. This allows for more intuitive data retrieval. For example, you can access all data for a specific country or year without needing to filter the entire DataFrame.\n",
        "\n",
        "\n"
      ],
      "metadata": {
        "id": "2j8Qtk7zHYeH"
      }
    },
    {
      "cell_type": "markdown",
      "source": [
        "11. What is the role of Seaborn’s pairplot() function?\n",
        "\n",
        "The pairplot() function in Seaborn is a powerful tool for visualizing relationships between multiple variables in a dataset. It creates a grid of scatter plots (or other types of plots) for each pair of variables in a DataFrame, allowing for a comprehensive exploration of the relationships and distributions of the data. Here are the key roles and features of the pairplot()\n",
        "\n",
        "function:\n",
        "\n",
        "1. Visualizing Pairwise Relationships\n",
        "The primary role of pairplot() is to visualize pairwise relationships between all numerical variables in a dataset. It generates a matrix of plots, where each cell in the matrix represents a scatter plot of two variables. This helps in identifying correlations, trends, and potential outliers.\n",
        "\n",
        "2. Diagonal Plots for Distribution\n",
        "On the diagonal of the pairplot, you can visualize the distribution of each variable. By default, pairplot() uses histograms or kernel density estimates (KDE) to show the distribution of each variable. This provides insight into the distribution characteristics (e.g., normality, skewness) of individual variables.\n",
        "\n",
        "3. Color Coding by Categorical Variables\n",
        "pairplot() allows you to color-code the points in the scatter plots based on a categorical variable. This is useful for visualizing how different categories relate to each other across multiple dimensions. By using the hue parameter, you can easily distinguish between different groups in the dataset.\n",
        "\n",
        "4. Faceting\n",
        "\n",
        "The pairplot() function can also create separate plots for different subsets of the data using the hue parameter. This allows for a more detailed analysis of how relationships differ across categories."
      ],
      "metadata": {
        "id": "WAaCpDLXHl1s"
      }
    },
    {
      "cell_type": "markdown",
      "source": [
        "12 What is the purpose of the describe() function in Pandas?\n",
        "\n",
        "The describe() function in Pandas is a powerful and convenient method used to generate descriptive statistics of a DataFrame or Series. It provides a quick overview of the central tendency, dispersion, and shape of the dataset's distribution, which is essential for exploratory data analysis (EDA). Here are the key purposes and features of the describe() function:\n",
        "\n",
        "1. Summary Statistics\n",
        "The primary purpose of the describe() function is to compute and return summary statistics for the numerical columns in a DataFrame. By default, it provides the following statistics:\n",
        "\n",
        "Count: The number of non-null entries in each column.\n",
        "Mean: The average value of the entries in each column.\n",
        "Standard Deviation (std): A measure of the amount of variation or dispersion in the dataset.\n",
        "Minimum (min): The smallest value in each column.\n",
        "25th Percentile (25%): The value below which 25% of the data falls (first quartile).\n",
        "50th Percentile (50%): The median value, which is the middle value of the dataset.\n",
        "75th Percentile (75%): The value below which 75% of the data falls (third quartile).\n",
        "Maximum (max): The largest value in each column.\n",
        "2. Handling Different Data Types\n",
        "The describe() function can be used with both numerical and categorical data. When applied to a DataFrame containing categorical columns, it provides different statistics, such as:\n",
        "\n",
        "Count: The number of non-null entries.\n",
        "Unique: The number of unique values in the column.\n",
        "Top: The most frequently occurring value.\n",
        "Frequency: The count of the most frequently occurring value.\n"
      ],
      "metadata": {
        "id": "Ty8_7PkwH7Ze"
      }
    },
    {
      "cell_type": "markdown",
      "source": [
        "13 Why is handling missing data important in Pandas?\n",
        "\n",
        "Handling missing data is a crucial aspect of data analysis and preprocessing in Pandas (and in data science in general) for several reasons. Missing data can significantly impact the quality of your analysis, the performance of machine learning models, and the validity of your conclusions. Here are the key reasons why handling missing data is important:\n",
        "\n",
        "1. Data Integrity and Quality\n",
        "Accuracy of Analysis: Missing data can lead to biased or incorrect results. If certain observations are missing, the analysis may not accurately reflect the underlying patterns in the data.\n",
        "Statistical Validity: Many statistical methods assume that the data is complete. Missing values can violate these assumptions, leading to unreliable statistical inferences.\n",
        "\n",
        "2. Impact on Machine Learning Models\n",
        "Model Performance: Most machine learning algorithms cannot handle missing values directly. If missing data is not addressed, it can lead to errors during model training or prediction, or the model may perform poorly.\n",
        "Feature Engineering: Missing values can affect the creation of new features. If not handled properly, the derived features may also contain missing values, complicating the modeling process.\n",
        "\n",
        "3. Bias Introduction\n",
        "Systematic Bias: If the missing data is not random (i.e., missing data is related to the value of the variable itself or other variables), it can introduce systematic bias into the analysis. This can lead to misleading conclusions.\n",
        "Loss of Information: Ignoring or improperly handling missing data can result in the loss of valuable information that could be critical for understanding the dataset."
      ],
      "metadata": {
        "id": "swDlg_R6IPL7"
      }
    },
    {
      "cell_type": "markdown",
      "source": [
        "14. What are the benefits of using Plotly for data visualization?\n",
        "\n",
        "01 Interactive Visualizations\n",
        "Dynamic Features:\n",
        "\n",
        " Plotly creates interactive plots that allow users to hover over data points to see tooltips, zoom in and out, and pan around the plot. This interactivity enhances user engagement and makes it easier to explore complex datasets.\n",
        "Customizable Interactivity:\n",
        " Users can add buttons, sliders, and dropdowns to create dynamic dashboards that allow for real-time data exploration and filtering.\n",
        "\n",
        "2 Wide Range of Plot Types\n",
        "Diverse Visualization Options:\n",
        "Plotly supports a wide variety of plot types, including line charts, scatter plots, bar charts, histograms, box plots, heatmaps, 3D plots, geographical maps, and more. This versatility allows users to choose the most appropriate visualization for their data.\n",
        "\n",
        "Complex Visualizations: Plotly can handle complex visualizations, such as contour plots, surface plots, and network graphs, which may be challenging to create with other libraries.\n",
        "\n",
        "3. High-Quality Graphics\n",
        "Publication-Ready Figures:\n",
        " Plotly generates high-quality, aesthetically pleasing graphics that are suitable for presentations, reports, and publications. The visualizations are rendered in vector format, ensuring clarity and scalability.\n",
        "Custom Styling:\n",
        " Users can customize the appearance of plots, including colors, fonts, and layout, to match branding or personal preferences.\n",
        "\n",
        "4. Ease of Use\n",
        "\n",
        "Intuitive Syntax: Plotly's API is designed to be user-friendly, making it easy for both beginners and experienced users to create complex visualizations with minimal code.\n",
        "\n",
        "Integration with Pandas: Plotly works seamlessly with Pandas DataFrames, allowing users to create visualizations directly from their data without extensive data manipulation.\n",
        "\n",
        "5. Web-Based and Cross-Platform\n",
        "Web Integration:\n",
        " Plotly visualizations can be easily embedded in web applications, dashboards, and Jupyter notebooks. This makes it a great choice for creating interactive data-driven applications.\n",
        "\n",
        "Cross-Platform Compatibility: Plotly visualizations can be viewed in any modern web browser, making them accessible across different devices and platforms."
      ],
      "metadata": {
        "id": "n82sNGJoId-F"
      }
    },
    {
      "cell_type": "markdown",
      "source": [
        "15.How does NumPy handle multidimensional arrays?\n",
        "\n",
        "NumPy is a powerful library in Python that provides support for large, multi-dimensional arrays and matrices, along with a collection of mathematical functions to operate on these arrays. Here’s how NumPy handles multidimensional arrays:\n",
        "\n",
        "1. N-Dimensional Arrays (ndarray)\n",
        "Core Data Structure: The primary data structure in NumPy for handling multidimensional data is the ndarray (N-dimensional array). An ndarray can have any number of dimensions, which allows for the representation of scalars (0D), vectors (1D), matrices (2D), and higher-dimensional data (3D, 4D, etc.).\n",
        "Homogeneous Data: All elements in a NumPy array must be of the same data type, which allows for efficient storage and computation.\n",
        "2. Creating Multidimensional Arrays\n",
        "NumPy provides several functions to create multidimensional arrays:\n",
        "\n",
        "Using np.array(): You can create an array from a nested list (or tuple) to form a multidimensional array.\n",
        "\n",
        "3. Indexing and Slicing\n",
        "NumPy provides powerful indexing and slicing capabilities for multidimensional arrays:\n",
        "\n",
        "Basic Indexing: You can access elements using a tuple of indices. For example, to access an element in a 2D array:"
      ],
      "metadata": {
        "id": "nIjDOI82JHPF"
      }
    },
    {
      "cell_type": "markdown",
      "source": [
        "16 What is the role of Bokeh in data visualization?\n",
        "\n",
        "Bokeh is an interactive and open-source Python library designed for creating visualizations such as plots, dashboards, and applications. Its key features include the ability to create highly interactive graphs, support for streaming data, and the capability to build complex data dashboards for user exploration.\n",
        "1. Interactive Visualizations\n",
        "\n",
        "User Engagement: Bokeh allows users to create interactive plots that enable viewers to explore data dynamically. This includes features like zooming, panning, and hovering over data points to reveal additional information.\n",
        "\n",
        "Widgets and Tools: It provides various tools and widgets that facilitate user interaction, such as sliders, dropdowns, and buttons, allowing users to manipulate the visualizations in real-time.\n",
        "\n",
        "2. Integration with Web Technologies\n",
        "\n",
        "Web-Based Applications: Bokeh visualizations can be easily embedded into web applications, making it suitable for creating dashboards that can be shared and accessed via web browsers.\n",
        "\n",
        "Support for Jupyter Notebooks: Bokeh works seamlessly with Jupyter notebooks, allowing data scientists to create and display interactive visualizations alongside their code and data analysis.\n",
        "\n",
        "3. Data Handling Capabilities\n",
        "Streaming Data: Bokeh supports real-time data streaming, which is essential for applications that require live updates, such as financial dashboards or IoT data monitoring.\n",
        "\n",
        "Efficient Data Sources: It can handle large datasets efficiently through various data sources, including ColumnDataSource, which allows for easy updates and modifications to the data being visualized.\n",
        "\n",
        "4. Customization and Flexibility\n",
        "Customizable Plots: Users can create a wide range of visualizations, from simple line plots to complex multi-faceted dashboards, with extensive customization options for aesthetics and layout.\n",
        "\n",
        "Integration with Other Libraries: Bokeh can be used alongside other Python libraries like NumPy, Pandas, and SciPy, enhancing its capabilities for data manipulation and analysis."
      ],
      "metadata": {
        "id": "78vd2Ez4JiM_"
      }
    },
    {
      "cell_type": "markdown",
      "source": [
        "17.Explain the difference between apply() and map() in Pandas?\n",
        "1. Functionality and Scope\n",
        "\n",
        "apply():\n",
        "\n",
        "The apply() function is used to apply a function along the axis of a DataFrame (rows or columns) or to a Series.\n",
        "\n",
        "It can take a function that operates on an entire row or column, making it more versatile for complex operations.\n",
        "\n",
        "It can be used with both DataFrames and Series.\n",
        "\n",
        "map():\n",
        "\n",
        "The map() function is primarily used with Series. It applies a function element-wise to each value in the Series.\n",
        "\n",
        "It is generally used for simpler operations, such as transforming or mapping values based on a function, dictionary, or Series.\n",
        "\n",
        "It cannot be used directly on DataFrames.\n",
        "\n",
        "2. Input and Output\n",
        "\n",
        "apply():\n",
        "\n",
        "The input can be a function that takes a Series or DataFrame as an argument, and the output can be a Series, DataFrame, or scalar, depending on the function applied.\n",
        "It can return different shapes based on the function used.\n",
        "map():\n",
        "\n",
        "\n",
        "The input is typically a function that takes a single value and returns a single value.\n",
        " It can also take a dictionary or Series for mapping values.\n",
        "\n",
        "The output is always a Series of the same length as the input Series.\n",
        "\n",
        "3. Use Cases\n",
        "\n",
        "apply():\n",
        "\n",
        "Use apply() when you need to perform operations that require access to multiple columns or when you want to apply a function that operates on entire rows or columns.\n",
        "\n",
        "Example: Calculating the sum of two columns or applying a custom function that requires multiple inputs.\n",
        "\n",
        "map():\n",
        "\n",
        "Use map() when you want to transform or map values in a Series based on a function, dictionary, or another Series.\n",
        "\n",
        "Example: Replacing values in a Series or applying a simple transformation to each element."
      ],
      "metadata": {
        "id": "FzY4LL1OJ-Pz"
      }
    },
    {
      "cell_type": "markdown",
      "source": [
        "18. What are some advanced features of NumPy?\n",
        "NumPy is a powerful library for numerical computing in Python, and it offers a wide range of advanced features that enhance its capabilities for handling arrays and performing mathematical operations. Here are some of the advanced features of NumPy:\n",
        "\n",
        "1.. Broadcasting\n",
        "Definition: Broadcasting is a powerful mechanism that allows NumPy to perform arithmetic operations on arrays of different shapes. It automatically expands the smaller array across the larger array to make their shapes compatible.\n",
        "\n",
        "2.. Advanced Indexing and Slicing\n",
        "Boolean Indexing: You can use boolean arrays to index into other arrays, allowing for conditional selection of elements.\n",
        "\n",
        "3.. Linear Algebra Functions\n",
        "Matrix Operations: NumPy provides a comprehensive set of functions for linear algebra, including matrix multiplication, determinants, eigenvalues, and solving linear systems.\n"
      ],
      "metadata": {
        "id": "ys3xzaq8Kklx"
      }
    },
    {
      "cell_type": "markdown",
      "source": [
        "19. How does Pandas simplify time series analysis?\n",
        "\n",
        "Pandas is a powerful library in Python that provides extensive support for time series analysis, making it easier for data scientists and analysts to work with time-based data. Here are several ways in which Pandas simplifies time series analysis:\n",
        "\n",
        "1. Date and Time Data Types\n",
        "\n",
        "DatetimeIndex:\n",
        " Pandas provides a specialized DatetimeIndex that allows for efficient indexing and manipulation of time series data. This index can handle various date and time formats, making it easy to work with time-based data.\n",
        "Datetime Conversion:\n",
        " Pandas has built-in functions like pd.to_datetime() that convert strings or other formats into datetime objects, simplifying the process of preparing time series data.\n",
        "\n",
        "2. Resampling and Frequency Conversion\n",
        "Resampling:\n",
        "\n",
        " Pandas allows you to easily change the frequency of your time series data using the resample() method. This is useful for aggregating data (e.g., converting daily data to monthly averages) or downsampling/upscaling time series.\n",
        "\n",
        " 3. Time Series Indexing and Slicing\n",
        "Indexing: With a DatetimeIndex, you can easily index and slice time series data using date ranges. This allows for straightforward selection of data for specific time periods\n",
        "\n",
        "04 Time Series Operations\n",
        "Date Arithmetic:\n",
        "Pandas supports date arithmetic, allowing you to perform operations like adding or subtracting time intervals from dates easily."
      ],
      "metadata": {
        "id": "Tq-ArV7hK8VS"
      }
    },
    {
      "cell_type": "markdown",
      "source": [
        "20 What is the role of a pivot table in Pandas?\n",
        "\n",
        "A pivot table in Pandas is a powerful tool for data analysis that allows you to summarize and reorganize data in a DataFrame. It provides a way to aggregate and transform data, making it easier to analyze and visualize complex datasets. Here are the key roles and features of pivot tables in Pandas:\n",
        "\n",
        "\n",
        "1. Data Summarization\n",
        "\n",
        "Aggregation: Pivot tables allow you to aggregate data based on one or more keys (columns). You can compute various summary statistics (like sum, mean, count, etc.) for different groups of data.\n",
        "\n",
        "Multi-dimensional Analysis: You can create multi-dimensional summaries by specifying multiple index and column variables, enabling you to analyze data across different dimensions.\n",
        "\n",
        "2. Data Reshaping\n",
        "Reorganizing Data:\n",
        " Pivot tables reshape data from a long format to a wide format, making it easier to read and interpret. This is particularly useful when you want to compare values across different categories.\n",
        "\n",
        "Creating a Matrix: Pivot tables create a matrix-like structure where you can see the relationships between different variables, with one variable represented in rows and another in columns.\n",
        "\n",
        "3. Flexible Grouping\n",
        "\n",
        "Custom Grouping: You can group data by one or more columns, allowing for flexible analysis based on different categories or attributes.\n",
        "\n",
        "Hierarchical Indexing: Pivot tables can create hierarchical indices (multi-level indices) for rows and columns, which is useful for organizing complex datasets.\n",
        "\n",
        "4. Handling Missing Data\n",
        "Filling Missing Values: Pivot tables can handle missing data by allowing you to specify how to fill in gaps (e.g., using fill_value parameter) when aggregating data.\n"
      ],
      "metadata": {
        "id": "vmxChBI0LksB"
      }
    },
    {
      "cell_type": "markdown",
      "source": [
        "21.Why is NumPy’s array slicing faster than Python’s list slicing?\n",
        "\n",
        "NumPy's array slicing is generally faster than Python's list slicing due to several key factors related to how NumPy is implemented and how it handles data. Here are the main reasons for this performance difference:\n",
        "\n",
        "1. Contiguous Memory Allocation\n",
        "\n",
        "Memory Layout:\n",
        " NumPy arrays are stored in contiguous blocks of memory, which allows for efficient access and manipulation of data. This contiguous memory layout enables NumPy to take advantage of low-level optimizations and cache efficiency.\n",
        "Data Type Homogeneity:\n",
        "All elements in a NumPy array are of the same data type, which allows for more efficient memory usage and faster computations compared to Python lists, which can store mixed data types.\n",
        "\n",
        "2. Vectorized Operations\n",
        "\n",
        "Element-wise Operations: NumPy is designed for vectorized operations, meaning that operations can be applied to entire arrays at once without the need for explicit loops. This is achieved through optimized C and Fortran code under the hood, which is much faster than Python's interpreted loops.\n",
        "\n",
        "Batch Processing: When slicing a NumPy array, the operation is performed in a batch manner, leveraging low-level optimizations that are not available in Python's list slicing.\n",
        "\n",
        "3. No Overhead of Python Objects\n",
        "\n",
        "Lightweight Data Structures:\n",
        " NumPy arrays are implemented as a single data structure in memory, while Python lists are collections of pointers to Python objects. This means that accessing elements in a NumPy array involves less overhead than accessing elements in a list, where each element is a separate object.\n",
        "\n",
        "Reduced Function Call Overhead:\n",
        "NumPy operations are implemented in C, which reduces the overhead associated with Python function calls and allows for faster execution."
      ],
      "metadata": {
        "id": "Fj7hdl5TMDdY"
      }
    },
    {
      "cell_type": "markdown",
      "source": [
        "22 What are some common use cases for Seaborn?\n",
        "\n",
        "Seaborn is a powerful Python data visualization library built on top of Matplotlib that provides a high-level interface for drawing attractive and informative statistical graphics. It is particularly well-suited for visualizing complex datasets and making statistical graphics easier to create and interpret.\n",
        "\n",
        " Here are some common use cases for Seaborn:\n",
        "\n",
        "1. Exploratory Data Analysis (EDA)\n",
        "Visualizing Distributions: Seaborn provides functions like sns.histplot(), sns.kdeplot(), and sns.boxplot() to visualize the distribution of a dataset, helping to identify patterns, outliers, and the overall shape of the data\n",
        "\n",
        "2. Comparing Groups\n",
        "Categorical Data Visualization: Seaborn excels at visualizing categorical data through functions like sns.barplot(), sns.countplot(), and sns.boxplot(), which allow for easy comparison of different groups.\n",
        "\n",
        "3.3. Correlation Analysis\n",
        "Heatmaps: Seaborn's sns.heatmap() function is commonly used to visualize correlation matrices, making it easy to identify relationships between multiple variables in a dataset."
      ],
      "metadata": {
        "id": "QGmJFNDwMqYm"
      }
    },
    {
      "cell_type": "markdown",
      "source": [
        "01.How do you create a 2D NumPy array and calculate the sum of each row?\n"
      ],
      "metadata": {
        "id": "YJ_iB8_ZNFLw"
      }
    },
    {
      "cell_type": "code",
      "source": [
        "import numpy as np\n",
        "\n",
        "# Step 2: Create a 2D NumPy array\n",
        "array_2d = np.array([[1, 2, 3],\n",
        "                     [4, 5, 6],\n",
        "                     [7, 8, 9]])\n",
        "\n",
        "# Step 3: Calculate the sum of each row\n",
        "row_sums = np.sum(array_2d, axis=1)\n",
        "\n",
        "# Print the results\n",
        "print(\"2D Array:\")\n",
        "print(array_2d)\n",
        "print(\"\\nSum of each row:\")\n",
        "print(row_sums)"
      ],
      "metadata": {
        "colab": {
          "base_uri": "https://localhost:8080/"
        },
        "id": "ZQ39xQGzNegY",
        "outputId": "42bedc72-6fa8-4484-b647-769dd5dd6503"
      },
      "execution_count": null,
      "outputs": [
        {
          "output_type": "stream",
          "name": "stdout",
          "text": [
            "2D Array:\n",
            "[[1 2 3]\n",
            " [4 5 6]\n",
            " [7 8 9]]\n",
            "\n",
            "Sum of each row:\n",
            "[ 6 15 24]\n"
          ]
        }
      ]
    },
    {
      "cell_type": "code",
      "source": [
        "##2.Write a Pandas script to find the mean of a specific column in a DataFrame?\n",
        "\n",
        "import pandas as pd\n",
        "\n",
        "# Step 2: Create a DataFrame\n",
        "data = {\n",
        "    'Name': ['Alice', 'Bob', 'Charlie', 'David'],\n",
        "    'Age': [24, 30, 22, 35],\n",
        "    'Salary': [50000, 60000, 55000, 70000]\n",
        "}\n",
        "\n",
        "df = pd.DataFrame(data)\n",
        "\n",
        "# Step 3: Calculate the mean of the 'Salary' column\n",
        "mean_salary = df['Salary'].mean()\n",
        "\n",
        "# Print the results\n",
        "print(\"DataFrame:\")\n",
        "print(df)\n",
        "print(\"\\nMean Salary:\")\n",
        "print(mean_salary)"
      ],
      "metadata": {
        "colab": {
          "base_uri": "https://localhost:8080/"
        },
        "id": "xTAfPs-ENidx",
        "outputId": "2d5bef6c-0eb1-4e40-c335-12555d93a6a1"
      },
      "execution_count": null,
      "outputs": [
        {
          "output_type": "stream",
          "name": "stdout",
          "text": [
            "DataFrame:\n",
            "      Name  Age  Salary\n",
            "0    Alice   24   50000\n",
            "1      Bob   30   60000\n",
            "2  Charlie   22   55000\n",
            "3    David   35   70000\n",
            "\n",
            "Mean Salary:\n",
            "58750.0\n"
          ]
        }
      ]
    },
    {
      "cell_type": "code",
      "source": [
        "#3 Create a scatter plot using Matplotlib?\n",
        "\n",
        "import matplotlib.pyplot as plt\n",
        "\n",
        "# Step 3: Prepare Data\n",
        "# Example data\n",
        "x = [1, 2, 3, 4, 5]\n",
        "y = [2, 3, 5, 7, 11]\n",
        "\n",
        "# Step 4: Create the Scatter Plot\n",
        "plt.scatter(x, y, color='blue', marker='o')\n",
        "\n",
        "# Adding titles and labels\n",
        "plt.title('Scatter Plot Example')\n",
        "plt.xlabel('X-axis Label')\n",
        "plt.ylabel('Y-axis Label')\n",
        "\n",
        "# Show the plot\n",
        "plt.grid(True)  # Optional: Add a grid for better readability\n",
        "plt.show()"
      ],
      "metadata": {
        "colab": {
          "base_uri": "https://localhost:8080/",
          "height": 472
        },
        "id": "6qX_Kl8QN0xT",
        "outputId": "51e4cadc-808c-4616-c5d6-8eb50d67420a"
      },
      "execution_count": null,
      "outputs": [
        {
          "output_type": "display_data",
          "data": {
            "text/plain": [
              "<Figure size 640x480 with 1 Axes>"
            ],
            "image/png": "[encoded data removed]"
          },
          "metadata": {}
        }
      ]
    },
    {
      "cell_type": "code",
      "source": [
        "#4How do you calculate the correlation matrix using Seaborn and visualize it with a heatmap)\n",
        "\n",
        "import pandas as pd\n",
        "import seaborn as sns\n",
        "import matplotlib.pyplot as plt\n",
        "\n",
        "# Load dataset\n",
        "data = pd.read_csv(\"path_to_your_dataset.csv\")\n",
        "\n",
        "# Compute correlation matrix\n",
        "correlation_matrix = data.corr(numeric_only=True)\n",
        "\n",
        "# Visualize the correlation matrix with a heatmap\n",
        "plt.figure(figsize=(10, 8))\n",
        "sns.heatmap(correlation_matrix, annot=True, cmap='coolwarm', fmt='.2f', square=True)\n",
        "plt.title('Correlation Heatmap')\n",
        "plt.show()"
      ],
      "metadata": {
        "collapsed": true,
        "id": "0aAHV79UOXaa"
      },
      "execution_count": null,
      "outputs": []
    },
    {
      "cell_type": "markdown",
      "source": [
        "5 Generate a bar plot using Plotly?\n"
      ],
      "metadata": {
        "id": "EauFmTYTgaKV"
      }
    },
    {
      "cell_type": "code",
      "source": [
        "import plotly.graph_objects as go\n",
        "\n",
        "# Step 3: Prepare Data\n",
        "# Example data\n",
        "categories = ['Category A', 'Category B', 'Category C', 'Category D']\n",
        "values = [10, 15, 7, 20]\n",
        "\n",
        "# Step 4: Create the Bar Plot\n",
        "fig = go.Figure(data=[go.Bar(x=categories, y=values)])\n",
        "\n",
        "# Adding titles and labels\n",
        "fig.update_layout(\n",
        "    title='Bar Plot Example',\n",
        "    xaxis_title='Categories',\n",
        "    yaxis_title='Values'\n",
        ")\n",
        "\n",
        "# Show the plot\n",
        "fig.show()"
      ],
      "metadata": {
        "colab": {
          "base_uri": "https://localhost:8080/",
          "height": 542
        },
        "id": "2khTseVagg5c",
        "outputId": "8a83bc65-6cc7-4cc1-e9fa-f52d6f1ada71"
      },
      "execution_count": null,
      "outputs": [
        {
          "output_type": "display_data",
          "data": {
            "text/html": [
              "<html>\n",
              "<head><meta charset=\"utf-8\" /></head>\n",
              "<body>\n",
              "    <div>            <script src=\"https://cdnjs.cloudflare.com/ajax/libs/mathjax/2.7.5/MathJax.js?config=TeX-AMS-MML_SVG\"></script><script type=\"text/javascript\">if (window.MathJax && window.MathJax.Hub && window.MathJax.Hub.Config) {window.MathJax.Hub.Config({SVG: {font: \"STIX-Web\"}});}</script>                <script type=\"text/javascript\">window.PlotlyConfig = {MathJaxConfig: 'local'};</script>\n",
              "        <script charset=\"utf-8\" src=\"https://cdn.plot.ly/plotly-2.35.2.min.js\"></script>                <div id=\"887c63ad-8a84-42e8-8e24-ee4099b2c6c6\" class=\"plotly-graph-div\" style=\"height:525px; width:100%;\"></div>            <script type=\"text/javascript\">                                    window.PLOTLYENV=window.PLOTLYENV || {};                                    if (document.getElementById(\"887c63ad-8a84-42e8-8e24-ee4099b2c6c6\")) {                    Plotly.newPlot(                        \"887c63ad-8a84-42e8-8e24-ee4099b2c6c6\",                        [{\"x\":[\"Category A\",\"Category B\",\"Category C\",\"Category D\"],\"y\":[10,15,7,20],\"type\":\"bar\"}],                        {\"template\":{\"data\":{\"histogram2dcontour\":[{\"type\":\"histogram2dcontour\",\"colorbar\":{\"outlinewidth\":0,\"ticks\":\"\"},\"colorscale\":[[0.0,\"#0d0887\"],[0.1111111111111111,\"#46039f\"],[0.2222222222222222,\"#7201a8\"],[0.3333333333333333,\"#9c179e\"],[0.4444444444444444,\"#bd3786\"],[0.5555555555555556,\"#d8576b\"],[0.6666666666666666,\"#ed7953\"],[0.7777777777777778,\"#fb9f3a\"],[0.8888888888888888,\"#fdca26\"],[1.0,\"#f0f921\"]]}],\"choropleth\":[{\"type\":\"choropleth\",\"colorbar\":{\"outlinewidth\":0,\"ticks\":\"\"}}],\"histogram2d\":[{\"type\":\"histogram2d\",\"colorbar\":{\"outlinewidth\":0,\"ticks\":\"\"},\"colorscale\":[[0.0,\"#0d0887\"],[0.1111111111111111,\"#46039f\"],[0.2222222222222222,\"#7201a8\"],[0.3333333333333333,\"#9c179e\"],[0.4444444444444444,\"#bd3786\"],[0.5555555555555556,\"#d8576b\"],[0.6666666666666666,\"#ed7953\"],[0.7777777777777778,\"#fb9f3a\"],[0.8888888888888888,\"#fdca26\"],[1.0,\"#f0f921\"]]}],\"heatmap\":[{\"type\":\"heatmap\",\"colorbar\":{\"outlinewidth\":0,\"ticks\":\"\"},\"colorscale\":[[0.0,\"#0d0887\"],[0.1111111111111111,\"#46039f\"],[0.2222222222222222,\"#7201a8\"],[0.3333333333333333,\"#9c179e\"],[0.4444444444444444,\"#bd3786\"],[0.5555555555555556,\"#d8576b\"],[0.6666666666666666,\"#ed7953\"],[0.7777777777777778,\"#fb9f3a\"],[0.8888888888888888,\"#fdca26\"],[1.0,\"#f0f921\"]]}],\"heatmapgl\":[{\"type\":\"heatmapgl\",\"colorbar\":{\"outlinewidth\":0,\"ticks\":\"\"},\"colorscale\":[[0.0,\"#0d0887\"],[0.1111111111111111,\"#46039f\"],[0.2222222222222222,\"#7201a8\"],[0.3333333333333333,\"#9c179e\"],[0.4444444444444444,\"#bd3786\"],[0.5555555555555556,\"#d8576b\"],[0.6666666666666666,\"#ed7953\"],[0.7777777777777778,\"#fb9f3a\"],[0.8888888888888888,\"#fdca26\"],[1.0,\"#f0f921\"]]}],\"contourcarpet\":[{\"type\":\"contourcarpet\",\"colorbar\":{\"outlinewidth\":0,\"ticks\":\"\"}}],\"contour\":[{\"type\":\"contour\",\"colorbar\":{\"outlinewidth\":0,\"ticks\":\"\"},\"colorscale\":[[0.0,\"#0d0887\"],[0.1111111111111111,\"#46039f\"],[0.2222222222222222,\"#7201a8\"],[0.3333333333333333,\"#9c179e\"],[0.4444444444444444,\"#bd3786\"],[0.5555555555555556,\"#d8576b\"],[0.6666666666666666,\"#ed7953\"],[0.7777777777777778,\"#fb9f3a\"],[0.8888888888888888,\"#fdca26\"],[1.0,\"#f0f921\"]]}],\"surface\":[{\"type\":\"surface\",\"colorbar\":{\"outlinewidth\":0,\"ticks\":\"\"},\"colorscale\":[[0.0,\"#0d0887\"],[0.1111111111111111,\"#46039f\"],[0.2222222222222222,\"#7201a8\"],[0.3333333333333333,\"#9c179e\"],[0.4444444444444444,\"#bd3786\"],[0.5555555555555556,\"#d8576b\"],[0.6666666666666666,\"#ed7953\"],[0.7777777777777778,\"#fb9f3a\"],[0.8888888888888888,\"#fdca26\"],[1.0,\"#f0f921\"]]}],\"mesh3d\":[{\"type\":\"mesh3d\",\"colorbar\":{\"outlinewidth\":0,\"ticks\":\"\"}}],\"scatter\":[{\"fillpattern\":{\"fillmode\":\"overlay\",\"size\":10,\"solidity\":0.2},\"type\":\"scatter\"}],\"parcoords\":[{\"type\":\"parcoords\",\"line\":{\"colorbar\":{\"outlinewidth\":0,\"ticks\":\"\"}}}],\"scatterpolargl\":[{\"type\":\"scatterpolargl\",\"marker\":{\"colorbar\":{\"outlinewidth\":0,\"ticks\":\"\"}}}],\"bar\":[{\"error_x\":{\"color\":\"#2a3f5f\"},\"error_y\":{\"color\":\"#2a3f5f\"},\"marker\":{\"line\":{\"color\":\"#E5ECF6\",\"width\":0.5},\"pattern\":{\"fillmode\":\"overlay\",\"size\":10,\"solidity\":0.2}},\"type\":\"bar\"}],\"scattergeo\":[{\"type\":\"scattergeo\",\"marker\":{\"colorbar\":{\"outlinewidth\":0,\"ticks\":\"\"}}}],\"scatterpolar\":[{\"type\":\"scatterpolar\",\"marker\":{\"colorbar\":{\"outlinewidth\":0,\"ticks\":\"\"}}}],\"histogram\":[{\"marker\":{\"pattern\":{\"fillmode\":\"overlay\",\"size\":10,\"solidity\":0.2}},\"type\":\"histogram\"}],\"scattergl\":[{\"type\":\"scattergl\",\"marker\":{\"colorbar\":{\"outlinewidth\":0,\"ticks\":\"\"}}}],\"scatter3d\":[{\"type\":\"scatter3d\",\"line\":{\"colorbar\":{\"outlinewidth\":0,\"ticks\":\"\"}},\"marker\":{\"colorbar\":{\"outlinewidth\":0,\"ticks\":\"\"}}}],\"scattermapbox\":[{\"type\":\"scattermapbox\",\"marker\":{\"colorbar\":{\"outlinewidth\":0,\"ticks\":\"\"}}}],\"scatterternary\":[{\"type\":\"scatterternary\",\"marker\":{\"colorbar\":{\"outlinewidth\":0,\"ticks\":\"\"}}}],\"scattercarpet\":[{\"type\":\"scattercarpet\",\"marker\":{\"colorbar\":{\"outlinewidth\":0,\"ticks\":\"\"}}}],\"carpet\":[{\"aaxis\":{\"endlinecolor\":\"#2a3f5f\",\"gridcolor\":\"white\",\"linecolor\":\"white\",\"minorgridcolor\":\"white\",\"startlinecolor\":\"#2a3f5f\"},\"baxis\":{\"endlinecolor\":\"#2a3f5f\",\"gridcolor\":\"white\",\"linecolor\":\"white\",\"minorgridcolor\":\"white\",\"startlinecolor\":\"#2a3f5f\"},\"type\":\"carpet\"}],\"table\":[{\"cells\":{\"fill\":{\"color\":\"#EBF0F8\"},\"line\":{\"color\":\"white\"}},\"header\":{\"fill\":{\"color\":\"#C8D4E3\"},\"line\":{\"color\":\"white\"}},\"type\":\"table\"}],\"barpolar\":[{\"marker\":{\"line\":{\"color\":\"#E5ECF6\",\"width\":0.5},\"pattern\":{\"fillmode\":\"overlay\",\"size\":10,\"solidity\":0.2}},\"type\":\"barpolar\"}],\"pie\":[{\"automargin\":true,\"type\":\"pie\"}]},\"layout\":{\"autotypenumbers\":\"strict\",\"colorway\":[\"#636efa\",\"#EF553B\",\"#00cc96\",\"#ab63fa\",\"#FFA15A\",\"#19d3f3\",\"#FF6692\",\"#B6E880\",\"#FF97FF\",\"#FECB52\"],\"font\":{\"color\":\"#2a3f5f\"},\"hovermode\":\"closest\",\"hoverlabel\":{\"align\":\"left\"},\"paper_bgcolor\":\"white\",\"plot_bgcolor\":\"#E5ECF6\",\"polar\":{\"bgcolor\":\"#E5ECF6\",\"angularaxis\":{\"gridcolor\":\"white\",\"linecolor\":\"white\",\"ticks\":\"\"},\"radialaxis\":{\"gridcolor\":\"white\",\"linecolor\":\"white\",\"ticks\":\"\"}},\"ternary\":{\"bgcolor\":\"#E5ECF6\",\"aaxis\":{\"gridcolor\":\"white\",\"linecolor\":\"white\",\"ticks\":\"\"},\"baxis\":{\"gridcolor\":\"white\",\"linecolor\":\"white\",\"ticks\":\"\"},\"caxis\":{\"gridcolor\":\"white\",\"linecolor\":\"white\",\"ticks\":\"\"}},\"coloraxis\":{\"colorbar\":{\"outlinewidth\":0,\"ticks\":\"\"}},\"colorscale\":{\"sequential\":[[0.0,\"#0d0887\"],[0.1111111111111111,\"#46039f\"],[0.2222222222222222,\"#7201a8\"],[0.3333333333333333,\"#9c179e\"],[0.4444444444444444,\"#bd3786\"],[0.5555555555555556,\"#d8576b\"],[0.6666666666666666,\"#ed7953\"],[0.7777777777777778,\"#fb9f3a\"],[0.8888888888888888,\"#fdca26\"],[1.0,\"#f0f921\"]],\"sequentialminus\":[[0.0,\"#0d0887\"],[0.1111111111111111,\"#46039f\"],[0.2222222222222222,\"#7201a8\"],[0.3333333333333333,\"#9c179e\"],[0.4444444444444444,\"#bd3786\"],[0.5555555555555556,\"#d8576b\"],[0.6666666666666666,\"#ed7953\"],[0.7777777777777778,\"#fb9f3a\"],[0.8888888888888888,\"#fdca26\"],[1.0,\"#f0f921\"]],\"diverging\":[[0,\"#8e0152\"],[0.1,\"#c51b7d\"],[0.2,\"#de77ae\"],[0.3,\"#f1b6da\"],[0.4,\"#fde0ef\"],[0.5,\"#f7f7f7\"],[0.6,\"#e6f5d0\"],[0.7,\"#b8e186\"],[0.8,\"#7fbc41\"],[0.9,\"#4d9221\"],[1,\"#276419\"]]},\"xaxis\":{\"gridcolor\":\"white\",\"linecolor\":\"white\",\"ticks\":\"\",\"title\":{\"standoff\":15},\"zerolinecolor\":\"white\",\"automargin\":true,\"zerolinewidth\":2},\"yaxis\":{\"gridcolor\":\"white\",\"linecolor\":\"white\",\"ticks\":\"\",\"title\":{\"standoff\":15},\"zerolinecolor\":\"white\",\"automargin\":true,\"zerolinewidth\":2},\"scene\":{\"xaxis\":{\"backgroundcolor\":\"#E5ECF6\",\"gridcolor\":\"white\",\"linecolor\":\"white\",\"showbackground\":true,\"ticks\":\"\",\"zerolinecolor\":\"white\",\"gridwidth\":2},\"yaxis\":{\"backgroundcolor\":\"#E5ECF6\",\"gridcolor\":\"white\",\"linecolor\":\"white\",\"showbackground\":true,\"ticks\":\"\",\"zerolinecolor\":\"white\",\"gridwidth\":2},\"zaxis\":{\"backgroundcolor\":\"#E5ECF6\",\"gridcolor\":\"white\",\"linecolor\":\"white\",\"showbackground\":true,\"ticks\":\"\",\"zerolinecolor\":\"white\",\"gridwidth\":2}},\"shapedefaults\":{\"line\":{\"color\":\"#2a3f5f\"}},\"annotationdefaults\":{\"arrowcolor\":\"#2a3f5f\",\"arrowhead\":0,\"arrowwidth\":1},\"geo\":{\"bgcolor\":\"white\",\"landcolor\":\"#E5ECF6\",\"subunitcolor\":\"white\",\"showland\":true,\"showlakes\":true,\"lakecolor\":\"white\"},\"title\":{\"x\":0.05},\"mapbox\":{\"style\":\"light\"}}},\"title\":{\"text\":\"Bar Plot Example\"},\"xaxis\":{\"title\":{\"text\":\"Categories\"}},\"yaxis\":{\"title\":{\"text\":\"Values\"}}},                        {\"responsive\": true}                    ).then(function(){\n",
              "                            \n",
              "var gd = document.getElementById('887c63ad-8a84-42e8-8e24-ee4099b2c6c6');\n",
              "var x = new MutationObserver(function (mutations, observer) {{\n",
              "        var display = window.getComputedStyle(gd).display;\n",
              "        if (!display || display === 'none') {{\n",
              "            console.log([gd, 'removed!']);\n",
              "            Plotly.purge(gd);\n",
              "            observer.disconnect();\n",
              "        }}\n",
              "}});\n",
              "\n",
              "// Listen for the removal of the full notebook cells\n",
              "var notebookContainer = gd.closest('#notebook-container');\n",
              "if (notebookContainer) {{\n",
              "    x.observe(notebookContainer, {childList: true});\n",
              "}}\n",
              "\n",
              "// Listen for the clearing of the current output cell\n",
              "var outputEl = gd.closest('.output');\n",
              "if (outputEl) {{\n",
              "    x.observe(outputEl, {childList: true});\n",
              "}}\n",
              "\n",
              "                        })                };                            </script>        </div>\n",
              "</body>\n",
              "</html>"
            ]
          },
          "metadata": {}
        }
      ]
    },
    {
      "cell_type": "markdown",
      "source": [
        "6. Create a DataFrame and add a new column based on an existing column?\n"
      ],
      "metadata": {
        "id": "b1Bp8T27h1yH"
      }
    },
    {
      "cell_type": "code",
      "source": [
        "import pandas as pd\n",
        "\n",
        "# Step 3: Create a DataFrame\n",
        "data = {\n",
        "    'Name': ['Alice', 'Bob', 'Charlie', 'David'],\n",
        "    'Age': [24, 30, 22, 35],\n",
        "    'Salary': [50000, 60000, 55000, 70000]\n",
        "}\n",
        "\n",
        "df = pd.DataFrame(data)\n",
        "\n",
        "# Step 4: Add a new column based on an existing column\n",
        "# For example, let's create a new column 'Salary After Tax' which is 80% of the original salary\n",
        "df['Salary After Tax'] = df['Salary'] * 0.8\n",
        "\n",
        "# Print the DataFrame\n",
        "print(\"DataFrame with New Column:\")\n",
        "print(df)"
      ],
      "metadata": {
        "colab": {
          "base_uri": "https://localhost:8080/"
        },
        "id": "uERN4ePMiAci",
        "outputId": "b2f332cf-e1b7-496f-c150-e2dcd0c66f68"
      },
      "execution_count": null,
      "outputs": [
        {
          "output_type": "stream",
          "name": "stdout",
          "text": [
            "DataFrame with New Column:\n",
            "      Name  Age  Salary  Salary After Tax\n",
            "0    Alice   24   50000           40000.0\n",
            "1      Bob   30   60000           48000.0\n",
            "2  Charlie   22   55000           44000.0\n",
            "3    David   35   70000           56000.0\n"
          ]
        }
      ]
    },
    {
      "cell_type": "markdown",
      "source": [
        "7. Write a program to perform element-wise multiplication of two NumPy arrays?\n"
      ],
      "metadata": {
        "id": "HU5lAQXTiF3F"
      }
    },
    {
      "cell_type": "code",
      "source": [
        "import numpy as np\n",
        "\n",
        "# Step 3: Create two NumPy arrays\n",
        "array1 = np.array([1, 2, 3, 4])\n",
        "array2 = np.array([5, 6, 7, 8])\n",
        "\n",
        "# Step 4: Perform element-wise multiplication\n",
        "result = array1 * array2\n",
        "\n",
        "# Print the result\n",
        "print(\"Array 1:\", array1)\n",
        "print(\"Array 2:\", array2)\n",
        "print(\"Element-wise multiplication result:\", result)"
      ],
      "metadata": {
        "colab": {
          "base_uri": "https://localhost:8080/"
        },
        "id": "s0644Gx2iSYD",
        "outputId": "cefc97bd-c65c-4985-d1b8-4d3e976f6105"
      },
      "execution_count": null,
      "outputs": [
        {
          "output_type": "stream",
          "name": "stdout",
          "text": [
            "Array 1: [1 2 3 4]\n",
            "Array 2: [5 6 7 8]\n",
            "Element-wise multiplication result: [ 5 12 21 32]\n"
          ]
        }
      ]
    },
    {
      "cell_type": "markdown",
      "source": [
        "8 Create a line plot with multiple lines using Matplotlib?\n",
        "\n"
      ],
      "metadata": {
        "id": "ns2V_fzliWwW"
      }
    },
    {
      "cell_type": "code",
      "source": [
        "import matplotlib.pyplot as plt\n",
        "\n",
        "# Step 3: Prepare Data\n",
        "# Example data\n",
        "x = [0, 1, 2, 3, 4, 5]\n",
        "y1 = [0, 1, 4, 9, 16, 25]  # y = x^2\n",
        "y2 = [0, 1, 2, 3, 4, 5]     # y = x\n",
        "y3 = [0, 1, 8, 27, 64, 125]  # y = x^3\n",
        "\n",
        "# Step 4: Create the Line Plot\n",
        "plt.plot(x, y1, label='y = x^2', marker='o')  # Line 1\n",
        "plt.plot(x, y2, label='y = x', marker='s')     # Line 2\n",
        "plt.plot(x, y3, label='y = x^3', marker='^')    # Line 3\n",
        "\n",
        "# Adding titles and labels\n",
        "plt.title('Multiple Line Plot Example')\n",
        "plt.xlabel('X-axis')\n",
        "plt.ylabel('Y-axis')\n",
        "\n",
        "# Show legend\n",
        "plt.legend()\n",
        "\n",
        "# Show the plot\n",
        "plt.grid(True)  # Optional: Add a grid for better readability\n",
        "plt.show()"
      ],
      "metadata": {
        "colab": {
          "base_uri": "https://localhost:8080/",
          "height": 472
        },
        "id": "791j1k7Tieok",
        "outputId": "9e3bf0ff-143a-4b2c-a5cd-4eee149700d0"
      },
      "execution_count": null,
      "outputs": [
        {
          "output_type": "display_data",
          "data": {
            "text/plain": [
              "<Figure size 640x480 with 1 Axes>"
            ],
            "image/png": "[encoded data removed]"
          },
          "metadata": {}
        }
      ]
    },
    {
      "cell_type": "markdown",
      "source": [
        "9.Generate a Pandas DataFrame and filter rows where a column value is greater than a threshold?\n",
        "\n"
      ],
      "metadata": {
        "id": "utKeVP71ihGp"
      }
    },
    {
      "cell_type": "code",
      "source": [
        "import pandas as pd\n",
        "\n",
        "# Step 3: Create a DataFrame\n",
        "data = {\n",
        "    'Name': ['Alice', 'Bob', 'Charlie', 'David'],\n",
        "    'Age': [24, 30, 22, 35],\n",
        "    'Salary': [50000, 60000, 55000, 70000]\n",
        "}\n",
        "\n",
        "df = pd.DataFrame(data)\n",
        "\n",
        "# Step 4: Filter rows where 'Salary' is greater than a threshold\n",
        "threshold = 55000\n",
        "filtered_df = df[df['Salary'] > threshold]\n",
        "\n",
        "# Print the original DataFrame and the filtered DataFrame\n",
        "print(\"Original DataFrame:\")\n",
        "print(df)\n",
        "print(\"\\nFiltered DataFrame (Salary > 55000):\")\n",
        "print(filtered_df)"
      ],
      "metadata": {
        "colab": {
          "base_uri": "https://localhost:8080/"
        },
        "id": "pDfZ6QUQionZ",
        "outputId": "66388152-7310-4f10-a1c2-c917eea023c4"
      },
      "execution_count": null,
      "outputs": [
        {
          "output_type": "stream",
          "name": "stdout",
          "text": [
            "Original DataFrame:\n",
            "      Name  Age  Salary\n",
            "0    Alice   24   50000\n",
            "1      Bob   30   60000\n",
            "2  Charlie   22   55000\n",
            "3    David   35   70000\n",
            "\n",
            "Filtered DataFrame (Salary > 55000):\n",
            "    Name  Age  Salary\n",
            "1    Bob   30   60000\n",
            "3  David   35   70000\n"
          ]
        }
      ]
    },
    {
      "cell_type": "markdown",
      "source": [
        "10.Create a histogram using Seaborn to visualize a distribution?\n",
        "\n"
      ],
      "metadata": {
        "id": "k3xW0yokiua1"
      }
    },
    {
      "cell_type": "code",
      "source": [
        "import seaborn as sns\n",
        "import matplotlib.pyplot as plt\n",
        "import numpy as np\n",
        "\n",
        "# Step 3: Prepare Data\n",
        "# Generate random data\n",
        "data = np.random.normal(loc=0, scale=1, size=1000)  # Normal distribution\n",
        "\n",
        "# Step 4: Create the Histogram\n",
        "plt.figure(figsize=(10, 6))  # Optional: Set the figure size\n",
        "sns.histplot(data, bins=30, kde=True, color='blue', edgecolor='black')\n",
        "\n",
        "# Adding titles and labels\n",
        "plt.title('Histogram of Normally Distributed Data')\n",
        "plt.xlabel('Value')\n",
        "plt.ylabel('Frequency')\n",
        "\n",
        "# Show the plot\n",
        "plt.grid(True)  # Optional: Add a grid for better readability\n",
        "plt.show()"
      ],
      "metadata": {
        "colab": {
          "base_uri": "https://localhost:8080/",
          "height": 432
        },
        "id": "SG6VMZZwizX9",
        "outputId": "94c15d66-7d90-424a-ebcb-099cfad9c338"
      },
      "execution_count": null,
      "outputs": [
        {
          "output_type": "display_data",
          "data": {
            "text/plain": [
              "<Figure size 1000x600 with 1 Axes>"
            ],
            "image/png": "[encoded data removed]"
          },
          "metadata": {}
        }
      ]
    },
    {
      "cell_type": "markdown",
      "source": [
        "11.Perform matrix multiplication using NumPy?\n",
        "\n"
      ],
      "metadata": {
        "id": "ZlFdrQ9Ei5KQ"
      }
    },
    {
      "cell_type": "code",
      "source": [
        "import numpy as np\n",
        "\n",
        "# Step 3: Create two matrices\n",
        "# Matrix A (2x3)\n",
        "A = np.array([[1, 2, 3],\n",
        "              [4, 5, 6]])\n",
        "\n",
        "# Matrix B (3x2)\n",
        "B = np.array([[7, 8],\n",
        "              [9, 10],\n",
        "              [11, 12]])\n",
        "\n",
        "# Step 4: Perform matrix multiplication\n",
        "# Method 1: Using the @ operator\n",
        "result1 = A @ B\n",
        "\n",
        "# Method 2: Using np.dot()\n",
        "result2 = np.dot(A, B)\n",
        "\n",
        "# Print the results\n",
        "print(\"Matrix A:\")\n",
        "print(A)\n",
        "print(\"\\nMatrix B:\")\n",
        "print(B)\n",
        "print(\"\\nResult of A @ B:\")\n",
        "print(result1)\n",
        "print(\"\\nResult of np.dot(A, B):\")\n",
        "print(result2)"
      ],
      "metadata": {
        "colab": {
          "base_uri": "https://localhost:8080/"
        },
        "id": "vk8ilh74i-D7",
        "outputId": "2e04f958-3800-4cf6-83f3-812879313ea6"
      },
      "execution_count": null,
      "outputs": [
        {
          "output_type": "stream",
          "name": "stdout",
          "text": [
            "Matrix A:\n",
            "[[1 2 3]\n",
            " [4 5 6]]\n",
            "\n",
            "Matrix B:\n",
            "[[ 7  8]\n",
            " [ 9 10]\n",
            " [11 12]]\n",
            "\n",
            "Result of A @ B:\n",
            "[[ 58  64]\n",
            " [139 154]]\n",
            "\n",
            "Result of np.dot(A, B):\n",
            "[[ 58  64]\n",
            " [139 154]]\n"
          ]
        }
      ]
    },
    {
      "cell_type": "markdown",
      "source": [
        "12. Use Pandas to load a CSV file and display its first 5 rows?\n",
        "\n"
      ],
      "metadata": {
        "id": "R9Xa5NkIjEPo"
      }
    },
    {
      "cell_type": "code",
      "source": [
        "#import pandas as pd\n",
        "\n",
        "# Step 3: Load the CSV file\n",
        "# Replace 'your_file.csv' with the path to your CSV file\n",
        "# For example, if you have a file named 'data.csv' in the same directory, use 'data.csv'\n",
        "#df = pd.read_csv('your_file.csv')\n",
        "\n",
        "# Step 4: Display the first 5 rows\n",
        "print(\"First 5 rows of the DataFrame:\")\n",
        "print(df.head())"
      ],
      "metadata": {
        "colab": {
          "base_uri": "https://localhost:8080/"
        },
        "id": "EOl8Lt_IjSdT",
        "outputId": "07d8ae05-3947-4ecc-af8f-b7b036039a5c"
      },
      "execution_count": null,
      "outputs": [
        {
          "output_type": "stream",
          "name": "stdout",
          "text": [
            "First 5 rows of the DataFrame:\n",
            "      Name  Age  Salary\n",
            "0    Alice   24   50000\n",
            "1      Bob   30   60000\n",
            "2  Charlie   22   55000\n",
            "3    David   35   70000\n"
          ]
        }
      ]
    },
    {
      "cell_type": "markdown",
      "source": [
        "13. Create a 3D scatter plot using Plotly.\n"
      ],
      "metadata": {
        "id": "fx802hxQjcad"
      }
    },
    {
      "cell_type": "code",
      "source": [
        "import pandas as pd\n",
        "import plotly.express as px\n",
        "\n",
        "# Load the dataset\n",
        "#movies = pd.read_csv('data.csv')\n",
        "\n",
        "# Filter out rows with missing values\n",
        "#filtered_movies = movies.dropna(subset=['runtime', 'audience_rating', 'tomatometer_rating'])\n",
        "\n",
        "# Create the 3D scatter plot\n",
        "#fig = px.scatter_3d(\n",
        "    #filtered_movies,\n",
        "   #x='runtime',\n",
        "    #y='audience_rating',\n",
        "    #z='tomatometer_rating',\n",
        "    #color='genres',\n",
        "    #title='3D Scatter Plot of Movie Runtime vs Ratings',\n",
        "    #labels={\n",
        "        #'runtime': 'Runtime (minutes)',\n",
        "        #'audience_rating': 'Audience Rating (%)',\n",
        "        #'tomatometer_rating': 'Tomatometer Rating (%)'\n",
        "\n",
        "\n",
        "\n",
        "# Customize the layout\n",
        "fig.update_layout(\n",
        "    legend=dict(\n",
        "        x=1.05,\n",
        "        y=0.5,\n",
        "        title=None,\n",
        "        font=dict(size=8),\n",
        "        itemsizing='constant',\n",
        "        bgcolor='rgba(255, 255, 255, 0.7)',\n",
        "        bordercolor='lightgray',\n",
        "        borderwidth=1\n",
        "    )\n",
        ")\n",
        "\n",
        "# Show the plot\n",
        "fig.show()"
      ],
      "metadata": {
        "colab": {
          "base_uri": "https://localhost:8080/",
          "height": 542
        },
        "id": "xAMoG_DUjtQf",
        "outputId": "47e632d5-ca00-4a22-e25f-c4e688a1c5ce"
      },
      "execution_count": null,
      "outputs": [
        {
          "output_type": "display_data",
          "data": {
            "text/html": [
              "<html>\n",
              "<head><meta charset=\"utf-8\" /></head>\n",
              "<body>\n",
              "    <div>            <script src=\"https://cdnjs.cloudflare.com/ajax/libs/mathjax/2.7.5/MathJax.js?config=TeX-AMS-MML_SVG\"></script><script type=\"text/javascript\">if (window.MathJax && window.MathJax.Hub && window.MathJax.Hub.Config) {window.MathJax.Hub.Config({SVG: {font: \"STIX-Web\"}});}</script>                <script type=\"text/javascript\">window.PlotlyConfig = {MathJaxConfig: 'local'};</script>\n",
              "        <script charset=\"utf-8\" src=\"https://cdn.plot.ly/plotly-2.35.2.min.js\"></script>                <div id=\"977d559c-5f25-4676-917f-d658f60d68a6\" class=\"plotly-graph-div\" style=\"height:525px; width:100%;\"></div>            <script type=\"text/javascript\">                                    window.PLOTLYENV=window.PLOTLYENV || {};                                    if (document.getElementById(\"977d559c-5f25-4676-917f-d658f60d68a6\")) {                    Plotly.newPlot(                        \"977d559c-5f25-4676-917f-d658f60d68a6\",                        [{\"x\":[\"Category A\",\"Category B\",\"Category C\",\"Category D\"],\"y\":[10,15,7,20],\"type\":\"bar\"}],                        {\"template\":{\"data\":{\"histogram2dcontour\":[{\"type\":\"histogram2dcontour\",\"colorbar\":{\"outlinewidth\":0,\"ticks\":\"\"},\"colorscale\":[[0.0,\"#0d0887\"],[0.1111111111111111,\"#46039f\"],[0.2222222222222222,\"#7201a8\"],[0.3333333333333333,\"#9c179e\"],[0.4444444444444444,\"#bd3786\"],[0.5555555555555556,\"#d8576b\"],[0.6666666666666666,\"#ed7953\"],[0.7777777777777778,\"#fb9f3a\"],[0.8888888888888888,\"#fdca26\"],[1.0,\"#f0f921\"]]}],\"choropleth\":[{\"type\":\"choropleth\",\"colorbar\":{\"outlinewidth\":0,\"ticks\":\"\"}}],\"histogram2d\":[{\"type\":\"histogram2d\",\"colorbar\":{\"outlinewidth\":0,\"ticks\":\"\"},\"colorscale\":[[0.0,\"#0d0887\"],[0.1111111111111111,\"#46039f\"],[0.2222222222222222,\"#7201a8\"],[0.3333333333333333,\"#9c179e\"],[0.4444444444444444,\"#bd3786\"],[0.5555555555555556,\"#d8576b\"],[0.6666666666666666,\"#ed7953\"],[0.7777777777777778,\"#fb9f3a\"],[0.8888888888888888,\"#fdca26\"],[1.0,\"#f0f921\"]]}],\"heatmap\":[{\"type\":\"heatmap\",\"colorbar\":{\"outlinewidth\":0,\"ticks\":\"\"},\"colorscale\":[[0.0,\"#0d0887\"],[0.1111111111111111,\"#46039f\"],[0.2222222222222222,\"#7201a8\"],[0.3333333333333333,\"#9c179e\"],[0.4444444444444444,\"#bd3786\"],[0.5555555555555556,\"#d8576b\"],[0.6666666666666666,\"#ed7953\"],[0.7777777777777778,\"#fb9f3a\"],[0.8888888888888888,\"#fdca26\"],[1.0,\"#f0f921\"]]}],\"heatmapgl\":[{\"type\":\"heatmapgl\",\"colorbar\":{\"outlinewidth\":0,\"ticks\":\"\"},\"colorscale\":[[0.0,\"#0d0887\"],[0.1111111111111111,\"#46039f\"],[0.2222222222222222,\"#7201a8\"],[0.3333333333333333,\"#9c179e\"],[0.4444444444444444,\"#bd3786\"],[0.5555555555555556,\"#d8576b\"],[0.6666666666666666,\"#ed7953\"],[0.7777777777777778,\"#fb9f3a\"],[0.8888888888888888,\"#fdca26\"],[1.0,\"#f0f921\"]]}],\"contourcarpet\":[{\"type\":\"contourcarpet\",\"colorbar\":{\"outlinewidth\":0,\"ticks\":\"\"}}],\"contour\":[{\"type\":\"contour\",\"colorbar\":{\"outlinewidth\":0,\"ticks\":\"\"},\"colorscale\":[[0.0,\"#0d0887\"],[0.1111111111111111,\"#46039f\"],[0.2222222222222222,\"#7201a8\"],[0.3333333333333333,\"#9c179e\"],[0.4444444444444444,\"#bd3786\"],[0.5555555555555556,\"#d8576b\"],[0.6666666666666666,\"#ed7953\"],[0.7777777777777778,\"#fb9f3a\"],[0.8888888888888888,\"#fdca26\"],[1.0,\"#f0f921\"]]}],\"surface\":[{\"type\":\"surface\",\"colorbar\":{\"outlinewidth\":0,\"ticks\":\"\"},\"colorscale\":[[0.0,\"#0d0887\"],[0.1111111111111111,\"#46039f\"],[0.2222222222222222,\"#7201a8\"],[0.3333333333333333,\"#9c179e\"],[0.4444444444444444,\"#bd3786\"],[0.5555555555555556,\"#d8576b\"],[0.6666666666666666,\"#ed7953\"],[0.7777777777777778,\"#fb9f3a\"],[0.8888888888888888,\"#fdca26\"],[1.0,\"#f0f921\"]]}],\"mesh3d\":[{\"type\":\"mesh3d\",\"colorbar\":{\"outlinewidth\":0,\"ticks\":\"\"}}],\"scatter\":[{\"fillpattern\":{\"fillmode\":\"overlay\",\"size\":10,\"solidity\":0.2},\"type\":\"scatter\"}],\"parcoords\":[{\"type\":\"parcoords\",\"line\":{\"colorbar\":{\"outlinewidth\":0,\"ticks\":\"\"}}}],\"scatterpolargl\":[{\"type\":\"scatterpolargl\",\"marker\":{\"colorbar\":{\"outlinewidth\":0,\"ticks\":\"\"}}}],\"bar\":[{\"error_x\":{\"color\":\"#2a3f5f\"},\"error_y\":{\"color\":\"#2a3f5f\"},\"marker\":{\"line\":{\"color\":\"#E5ECF6\",\"width\":0.5},\"pattern\":{\"fillmode\":\"overlay\",\"size\":10,\"solidity\":0.2}},\"type\":\"bar\"}],\"scattergeo\":[{\"type\":\"scattergeo\",\"marker\":{\"colorbar\":{\"outlinewidth\":0,\"ticks\":\"\"}}}],\"scatterpolar\":[{\"type\":\"scatterpolar\",\"marker\":{\"colorbar\":{\"outlinewidth\":0,\"ticks\":\"\"}}}],\"histogram\":[{\"marker\":{\"pattern\":{\"fillmode\":\"overlay\",\"size\":10,\"solidity\":0.2}},\"type\":\"histogram\"}],\"scattergl\":[{\"type\":\"scattergl\",\"marker\":{\"colorbar\":{\"outlinewidth\":0,\"ticks\":\"\"}}}],\"scatter3d\":[{\"type\":\"scatter3d\",\"line\":{\"colorbar\":{\"outlinewidth\":0,\"ticks\":\"\"}},\"marker\":{\"colorbar\":{\"outlinewidth\":0,\"ticks\":\"\"}}}],\"scattermapbox\":[{\"type\":\"scattermapbox\",\"marker\":{\"colorbar\":{\"outlinewidth\":0,\"ticks\":\"\"}}}],\"scatterternary\":[{\"type\":\"scatterternary\",\"marker\":{\"colorbar\":{\"outlinewidth\":0,\"ticks\":\"\"}}}],\"scattercarpet\":[{\"type\":\"scattercarpet\",\"marker\":{\"colorbar\":{\"outlinewidth\":0,\"ticks\":\"\"}}}],\"carpet\":[{\"aaxis\":{\"endlinecolor\":\"#2a3f5f\",\"gridcolor\":\"white\",\"linecolor\":\"white\",\"minorgridcolor\":\"white\",\"startlinecolor\":\"#2a3f5f\"},\"baxis\":{\"endlinecolor\":\"#2a3f5f\",\"gridcolor\":\"white\",\"linecolor\":\"white\",\"minorgridcolor\":\"white\",\"startlinecolor\":\"#2a3f5f\"},\"type\":\"carpet\"}],\"table\":[{\"cells\":{\"fill\":{\"color\":\"#EBF0F8\"},\"line\":{\"color\":\"white\"}},\"header\":{\"fill\":{\"color\":\"#C8D4E3\"},\"line\":{\"color\":\"white\"}},\"type\":\"table\"}],\"barpolar\":[{\"marker\":{\"line\":{\"color\":\"#E5ECF6\",\"width\":0.5},\"pattern\":{\"fillmode\":\"overlay\",\"size\":10,\"solidity\":0.2}},\"type\":\"barpolar\"}],\"pie\":[{\"automargin\":true,\"type\":\"pie\"}]},\"layout\":{\"autotypenumbers\":\"strict\",\"colorway\":[\"#636efa\",\"#EF553B\",\"#00cc96\",\"#ab63fa\",\"#FFA15A\",\"#19d3f3\",\"#FF6692\",\"#B6E880\",\"#FF97FF\",\"#FECB52\"],\"font\":{\"color\":\"#2a3f5f\"},\"hovermode\":\"closest\",\"hoverlabel\":{\"align\":\"left\"},\"paper_bgcolor\":\"white\",\"plot_bgcolor\":\"#E5ECF6\",\"polar\":{\"bgcolor\":\"#E5ECF6\",\"angularaxis\":{\"gridcolor\":\"white\",\"linecolor\":\"white\",\"ticks\":\"\"},\"radialaxis\":{\"gridcolor\":\"white\",\"linecolor\":\"white\",\"ticks\":\"\"}},\"ternary\":{\"bgcolor\":\"#E5ECF6\",\"aaxis\":{\"gridcolor\":\"white\",\"linecolor\":\"white\",\"ticks\":\"\"},\"baxis\":{\"gridcolor\":\"white\",\"linecolor\":\"white\",\"ticks\":\"\"},\"caxis\":{\"gridcolor\":\"white\",\"linecolor\":\"white\",\"ticks\":\"\"}},\"coloraxis\":{\"colorbar\":{\"outlinewidth\":0,\"ticks\":\"\"}},\"colorscale\":{\"sequential\":[[0.0,\"#0d0887\"],[0.1111111111111111,\"#46039f\"],[0.2222222222222222,\"#7201a8\"],[0.3333333333333333,\"#9c179e\"],[0.4444444444444444,\"#bd3786\"],[0.5555555555555556,\"#d8576b\"],[0.6666666666666666,\"#ed7953\"],[0.7777777777777778,\"#fb9f3a\"],[0.8888888888888888,\"#fdca26\"],[1.0,\"#f0f921\"]],\"sequentialminus\":[[0.0,\"#0d0887\"],[0.1111111111111111,\"#46039f\"],[0.2222222222222222,\"#7201a8\"],[0.3333333333333333,\"#9c179e\"],[0.4444444444444444,\"#bd3786\"],[0.5555555555555556,\"#d8576b\"],[0.6666666666666666,\"#ed7953\"],[0.7777777777777778,\"#fb9f3a\"],[0.8888888888888888,\"#fdca26\"],[1.0,\"#f0f921\"]],\"diverging\":[[0,\"#8e0152\"],[0.1,\"#c51b7d\"],[0.2,\"#de77ae\"],[0.3,\"#f1b6da\"],[0.4,\"#fde0ef\"],[0.5,\"#f7f7f7\"],[0.6,\"#e6f5d0\"],[0.7,\"#b8e186\"],[0.8,\"#7fbc41\"],[0.9,\"#4d9221\"],[1,\"#276419\"]]},\"xaxis\":{\"gridcolor\":\"white\",\"linecolor\":\"white\",\"ticks\":\"\",\"title\":{\"standoff\":15},\"zerolinecolor\":\"white\",\"automargin\":true,\"zerolinewidth\":2},\"yaxis\":{\"gridcolor\":\"white\",\"linecolor\":\"white\",\"ticks\":\"\",\"title\":{\"standoff\":15},\"zerolinecolor\":\"white\",\"automargin\":true,\"zerolinewidth\":2},\"scene\":{\"xaxis\":{\"backgroundcolor\":\"#E5ECF6\",\"gridcolor\":\"white\",\"linecolor\":\"white\",\"showbackground\":true,\"ticks\":\"\",\"zerolinecolor\":\"white\",\"gridwidth\":2},\"yaxis\":{\"backgroundcolor\":\"#E5ECF6\",\"gridcolor\":\"white\",\"linecolor\":\"white\",\"showbackground\":true,\"ticks\":\"\",\"zerolinecolor\":\"white\",\"gridwidth\":2},\"zaxis\":{\"backgroundcolor\":\"#E5ECF6\",\"gridcolor\":\"white\",\"linecolor\":\"white\",\"showbackground\":true,\"ticks\":\"\",\"zerolinecolor\":\"white\",\"gridwidth\":2}},\"shapedefaults\":{\"line\":{\"color\":\"#2a3f5f\"}},\"annotationdefaults\":{\"arrowcolor\":\"#2a3f5f\",\"arrowhead\":0,\"arrowwidth\":1},\"geo\":{\"bgcolor\":\"white\",\"landcolor\":\"#E5ECF6\",\"subunitcolor\":\"white\",\"showland\":true,\"showlakes\":true,\"lakecolor\":\"white\"},\"title\":{\"x\":0.05},\"mapbox\":{\"style\":\"light\"}}},\"title\":{\"text\":\"Bar Plot Example\"},\"xaxis\":{\"title\":{\"text\":\"Categories\"}},\"yaxis\":{\"title\":{\"text\":\"Values\"}},\"legend\":{\"font\":{\"size\":8},\"x\":1.05,\"y\":0.5,\"title\":{},\"itemsizing\":\"constant\",\"bgcolor\":\"rgba(255, 255, 255, 0.7)\",\"bordercolor\":\"lightgray\",\"borderwidth\":1}},                        {\"responsive\": true}                    ).then(function(){\n",
              "                            \n",
              "var gd = document.getElementById('977d559c-5f25-4676-917f-d658f60d68a6');\n",
              "var x = new MutationObserver(function (mutations, observer) {{\n",
              "        var display = window.getComputedStyle(gd).display;\n",
              "        if (!display || display === 'none') {{\n",
              "            console.log([gd, 'removed!']);\n",
              "            Plotly.purge(gd);\n",
              "            observer.disconnect();\n",
              "        }}\n",
              "}});\n",
              "\n",
              "// Listen for the removal of the full notebook cells\n",
              "var notebookContainer = gd.closest('#notebook-container');\n",
              "if (notebookContainer) {{\n",
              "    x.observe(notebookContainer, {childList: true});\n",
              "}}\n",
              "\n",
              "// Listen for the clearing of the current output cell\n",
              "var outputEl = gd.closest('.output');\n",
              "if (outputEl) {{\n",
              "    x.observe(outputEl, {childList: true});\n",
              "}}\n",
              "\n",
              "                        })                };                            </script>        </div>\n",
              "</body>\n",
              "</html>"
            ]
          },
          "metadata": {}
        }
      ]
    }
  ]
}